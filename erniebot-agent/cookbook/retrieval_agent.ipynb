{
 "cells": [
  {
   "cell_type": "markdown",
   "id": "4d02aa9a-d7bb-4242-909c-7e41d05af1b8",
   "metadata": {},
   "source": [
    "# 1. 使用langchain"
   ]
  },
  {
   "cell_type": "code",
   "execution_count": null,
   "id": "ea8ea79b-4637-4a56-a169-d5947c9b0763",
   "metadata": {},
   "outputs": [],
   "source": [
    "!pip install langchain"
   ]
  },
  {
   "cell_type": "markdown",
   "id": "32846bb2-6f4e-40a8-9171-57ba82bd6a1c",
   "metadata": {},
   "source": [
    "# 2. 导入第三方库"
   ]
  },
  {
   "cell_type": "code",
   "execution_count": 2,
   "id": "1af83f85-a984-44f7-b425-bd13367d68e1",
   "metadata": {},
   "outputs": [],
   "source": [
    "import os\n",
    "import sys\n",
    "import tarfile\n",
    "\n",
    "\n",
    "from erniebot_agent.agents import RetrievalAgent\n",
    "from erniebot_agent.chat_models import ERNIEBot\n",
    "from erniebot_agent.memory import WholeMemory\n",
    "from erniebot_agent.retrieval import BaizhongSearch\n",
    "from erniebot_agent.tools.baizhong_tool import BaizhongSearchTool\n",
    "from erniebot_agent.tools.langchain_retrieval_tool import LangChainRetrievalTool\n",
    "from langchain.docstore.document import Document\n",
    "from erniebot_agent.extensions.langchain.embeddings import ErnieEmbeddings\n",
    "from langchain_community.vectorstores import FAISS\n",
    "from langchain.document_loaders import PyPDFDirectoryLoader\n",
    "from langchain.text_splitter import SpacyTextSplitter\n",
    "from erniebot_agent.utils.common import download_file"
   ]
  },
  {
   "cell_type": "markdown",
   "id": "64af2577-3810-4f63-bdf4-b9eb7935c36a",
   "metadata": {},
   "source": [
    "使用aistudio access token, 申请地址请参考[accessToken](https://aistudio.baidu.com/index/accessToken)"
   ]
  },
  {
   "cell_type": "code",
   "execution_count": 3,
   "id": "2ca61c2f-aff9-4661-8f30-2ad7c1c2708b",
   "metadata": {},
   "outputs": [],
   "source": [
    "aistudio_access_token = \"<your aistudio access token>\"\n",
    "os.environ[\"EB_AGENT_ACCESS_TOKEN\"] = aistudio_access_token\n",
    "os.environ[\"AISTUDIO_ACCESS_TOKEN\"] = aistudio_access_token"
   ]
  },
  {
   "cell_type": "markdown",
   "id": "16f36ec4-912d-471c-ac76-f8b2e12530ce",
   "metadata": {},
   "source": [
    "# 3. 预处理\n",
    "\n",
    "## 3.1 下载数据集"
   ]
  },
  {
   "cell_type": "code",
   "execution_count": 4,
   "id": "152e7da5-d124-46e9-b049-1be30c5259ab",
   "metadata": {},
   "outputs": [],
   "source": [
    "if not os.path.exists(\"construction_regulations\"):\n",
    "    file_path = \"construction_regulations.tar\"\n",
    "    download_file(\n",
    "        url=\"https://paddlenlp.bj.bcebos.com/datasets/examples/construction_regulations.tar\",\n",
    "        save_path=file_path,\n",
    "    )\n",
    "\n",
    "    files = tarfile.open(file_path, \"r:*\")\n",
    "    file_dir = os.path.dirname(file_path)\n",
    "    files.extractall(file_dir, files.getmembers())\n",
    "# ! wget https://paddlenlp.bj.bcebos.com/datasets/examples/construction_regulations.tar\n",
    "# ! tar xvf construction_regulations.tar"
   ]
  },
  {
   "cell_type": "markdown",
   "id": "bbab23b1-679d-49f7-b763-d9b7cf1bd51a",
   "metadata": {},
   "source": [
    "## 3.2 构建知识库"
   ]
  },
  {
   "cell_type": "code",
   "execution_count": 5,
   "id": "119fdb2b-7716-48be-a444-a2437ff55033",
   "metadata": {},
   "outputs": [],
   "source": [
    "embeddings = ErnieEmbeddings()"
   ]
  },
  {
   "cell_type": "code",
   "execution_count": 6,
   "id": "1a05a9e9-579e-440a-a87a-22fab69b61e3",
   "metadata": {},
   "outputs": [],
   "source": [
    "faiss_name = \"faiss_index\"\n",
    "if os.path.exists(faiss_name):\n",
    "    db = FAISS.load_local(faiss_name, embeddings)\n",
    "else:\n",
    "    loader = PyPDFDirectoryLoader(\"construction_regulations\")\n",
    "    documents = loader.load()\n",
    "    text_splitter = SpacyTextSplitter(pipeline=\"zh_core_web_sm\", chunk_size=320, chunk_overlap=0)\n",
    "    docs = text_splitter.split_documents(documents)\n",
    "    db = FAISS.from_documents(docs, embeddings)\n",
    "    db.save_local(faiss_name)"
   ]
  },
  {
   "cell_type": "markdown",
   "id": "09bdae76-4022-4688-ac0c-25e21095d59d",
   "metadata": {},
   "source": [
    "# 4. 基于复杂Query分解的RetrievalAgent\n",
    "## 4.1 复杂Query任务规划\n",
    "在实际的问答场景，用户提出的Query往往是复杂的，比如用户问:\"请比较一下波士顿和姚明出生的城市的区别是什么？\"，这个问题涉及到了两个城市，并且还要比较两个城市的区别，如果直接把这个问题当成检索的Query，如果库里面没有直接回答这个问题的答案，那么这个问题就不能被正确检索，导致召回的结果与该Query的相关度偏低，最后就不能被正确的回复。\n",
    "\n",
    "解决复杂Query的比较好的方法就是把复杂的Query分解成比较简单的子问题，比如上面的问题可以分解成：波士顿的人口，波士顿的GDP，姚明出生的城市，姚明出生城市的人口，姚明出生城市的GDP等。这些子问题一般都能够检索到正确的答案，最后大模型把这些子问题的答案进行汇总，得到这个query的最终的答案。"
   ]
  },
  {
   "cell_type": "code",
   "execution_count": 7,
   "id": "716e4494-38fe-43f8-a4ff-6e02fc031fd4",
   "metadata": {},
   "outputs": [],
   "source": [
    "search_tool = LangChainRetrievalTool(db=db, threshold=0.0)\n",
    "llm = ERNIEBot(model=\"ernie-3.5\", api_type=\"aistudio\")\n",
    "memory = WholeMemory()\n",
    "agent = RetrievalAgent(\n",
    "    knowledge_base=search_tool,\n",
    "    use_compressor=False,\n",
    "    llm=llm,\n",
    "    top_k=3,\n",
    "    tools=[],\n",
    "    memory=memory,\n",
    ")"
   ]
  },
  {
   "cell_type": "code",
   "execution_count": 8,
   "id": "84319cca-ad91-41e3-bc58-60b2437297c6",
   "metadata": {},
   "outputs": [],
   "source": [
    "query = \"城市设计管理办法有哪些具体的内容？\"\n",
    "response = await agent.run(query)"
   ]
  },
  {
   "cell_type": "code",
   "execution_count": 9,
   "id": "e5c9abb9-7718-4bfa-bde2-5f8f24fb5df8",
   "metadata": {},
   "outputs": [
    {
     "name": "stdout",
     "output_type": "stream",
     "text": [
      "{'query': '城市设计管理办法的目的是什么？', 'name': 'sub query results 0'}\n",
      "{'query': '城市设计管理办法的具体内容有哪些？', 'name': 'sub query results 1'}\n",
      "{'query': '城市设计管理办法与城市规划有何关联？', 'name': 'sub query results 2'}\n",
      "{'query': '城市设计管理办法如何实施？', 'name': 'sub query results 3'}\n",
      "{'query': '城市设计管理办法有哪些特点或限制？', 'name': 'sub query results 4'}\n"
     ]
    }
   ],
   "source": [
    "# 分解的子Query\n",
    "for step in response.steps:\n",
    "    print(step.info)"
   ]
  },
  {
   "cell_type": "code",
   "execution_count": 10,
   "id": "f3bea4b2-7fa4-4131-9f6b-1e3685f49565",
   "metadata": {},
   "outputs": [
    {
     "name": "stdout",
     "output_type": "stream",
     "text": [
      "{'documents': [{'content': '住房和城乡建设部规章 \\n   X住房和城乡建设部发布  \\n- 1 -   城市设计管理办法 （2017年3月14日中华人民共和国住房和城乡建设部令第35号公布 自2017年6月1日起施行）    第一条 为提高城市建设水平，塑造城市风貌特色，推进城市设计工作，完善城市规划建设管理，依据《中华人民共和国城乡规划法》等法律法规，制定本办法。   第二条 城市、 县人民政府所在地建制镇开展城市设计管理工作，适用本办法。   第三条 城市设计是落实城市规划、指导建筑设计、塑造城市特色风貌的有效手段，贯穿于城市规划建设管理全过程。', 'score': 0.36258640457409663, 'meta': {'source': 'construction_regulations/城市设计管理办法.pdf', 'page': 0}}, {'content': '有条件的地方可以建立城市设计管理辅助决策系统，并将城市设计要求纳入城市规划管理信息平台。   第七条 城市设计分为总体城市设计和重点地区城市设计。\\n\\n  \\n\\n第八条 总体城市设计应当确定城市风貌特色， 保护自然山水格局， 优化城市形态格局， 明确公共空间体系， 并可与城市 （县人民政府所在地建制镇）总体规划一并报批。', 'score': 0.33495206470465577, 'meta': {'source': 'construction_regulations/城市设计管理办法.pdf', 'page': 1}}, {'content': '设计方案招标， 是指主要通过对投标人提交的设计方案进行评审确定中标人。', 'score': 0.321702275644589, 'meta': {'source': 'construction_regulations/建筑工程设计招标投标管理办法.pdf', 'page': 1}}]}\n",
      "{'documents': [{'content': '有条件的地方可以建立城市设计管理辅助决策系统，并将城市设计要求纳入城市规划管理信息平台。   第七条 城市设计分为总体城市设计和重点地区城市设计。\\n\\n  \\n\\n第八条 总体城市设计应当确定城市风貌特色， 保护自然山水格局， 优化城市形态格局， 明确公共空间体系， 并可与城市 （县人民政府所在地建制镇）总体规划一并报批。', 'score': 0.4133808591687589, 'meta': {'source': 'construction_regulations/城市设计管理办法.pdf', 'page': 1}}, {'content': '住房和城乡建设部规章 \\n   X住房和城乡建设部发布  \\n- 1 -   城市设计管理办法 （2017年3月14日中华人民共和国住房和城乡建设部令第35号公布 自2017年6月1日起施行）    第一条 为提高城市建设水平，塑造城市风貌特色，推进城市设计工作，完善城市规划建设管理，依据《中华人民共和国城乡规划法》等法律法规，制定本办法。   第二条 城市、 县人民政府所在地建制镇开展城市设计管理工作，适用本办法。   第三条 城市设计是落实城市规划、指导建筑设计、塑造城市特色风貌的有效手段，贯穿于城市规划建设管理全过程。', 'score': 0.3616602275780698, 'meta': {'source': 'construction_regulations/城市设计管理办法.pdf', 'page': 0}}, {'content': '第十三条 编制城市设计时，组织编制机关应当通过座谈、论证、网络等多种形式及渠道，广泛征求专家和公众意见。\\n\\n审批前应依法进行公示，公示时间不少于30日。\\n\\n  \\n\\n城市设计成果应当自批准之日起20个工作日内，通过政府信息网站以及当地主要新闻媒体予以公布。   \\n\\n第十四条 重点地区城市设计的内容和要求应当纳入控制性详细规划，并落实到控制性详细规划的相关指标中。', 'score': 0.3532118917940611, 'meta': {'source': 'construction_regulations/城市设计管理办法.pdf', 'page': 3}}]}\n",
      "{'documents': [{'content': '住房和城乡建设部规章 \\n   X住房和城乡建设部发布  \\n- 1 -   城市设计管理办法 （2017年3月14日中华人民共和国住房和城乡建设部令第35号公布 自2017年6月1日起施行）    第一条 为提高城市建设水平，塑造城市风貌特色，推进城市设计工作，完善城市规划建设管理，依据《中华人民共和国城乡规划法》等法律法规，制定本办法。   第二条 城市、 县人民政府所在地建制镇开展城市设计管理工作，适用本办法。   第三条 城市设计是落实城市规划、指导建筑设计、塑造城市特色风貌的有效手段，贯穿于城市规划建设管理全过程。', 'score': 0.37656516552600783, 'meta': {'source': 'construction_regulations/城市设计管理办法.pdf', 'page': 0}}, {'content': '住房和城乡建设部规章 \\n   X住房和城乡建设部发布  \\n- 6 -   第二十条 城市、 县人民政府城乡规划主管部门进行建筑设计方案审查和规划核实时，应当审核城市设计要求落实情况。\\n\\n  \\n\\n第二十一条 城市、 县人民政府城乡规划主管部门开展城市规划实施评估时，应当同时评估城市设计工作实施情况。   第二十二条 城市设计的技术管理规定由国务院城乡规划主管部门另行制定。   第二十三条 各地可根据本办法，按照实际情况，制定实施细则和技术导则。   第二十四条 县人民政府所在地以外的镇可以参照本办法开展城市设计工作。   第二十五条 本办法自2017年6月1日起施行。', 'score': 0.35170577416252424, 'meta': {'source': 'construction_regulations/城市设计管理办法.pdf', 'page': 5}}, {'content': '有条件的地方可以建立城市设计管理辅助决策系统，并将城市设计要求纳入城市规划管理信息平台。   第七条 城市设计分为总体城市设计和重点地区城市设计。\\n\\n  \\n\\n第八条 总体城市设计应当确定城市风貌特色， 保护自然山水格局， 优化城市形态格局， 明确公共空间体系， 并可与城市 （县人民政府所在地建制镇）总体规划一并报批。', 'score': 0.34943414332148415, 'meta': {'source': 'construction_regulations/城市设计管理办法.pdf', 'page': 1}}]}\n",
      "{'documents': [{'content': '有条件的地方可以建立城市设计管理辅助决策系统，并将城市设计要求纳入城市规划管理信息平台。   第七条 城市设计分为总体城市设计和重点地区城市设计。\\n\\n  \\n\\n第八条 总体城市设计应当确定城市风貌特色， 保护自然山水格局， 优化城市形态格局， 明确公共空间体系， 并可与城市 （县人民政府所在地建制镇）总体规划一并报批。', 'score': 0.4074113481330699, 'meta': {'source': 'construction_regulations/城市设计管理办法.pdf', 'page': 1}}, {'content': '住房和城乡建设部规章 \\n   X住房和城乡建设部发布  \\n- 1 -   城市设计管理办法 （2017年3月14日中华人民共和国住房和城乡建设部令第35号公布 自2017年6月1日起施行）    第一条 为提高城市建设水平，塑造城市风貌特色，推进城市设计工作，完善城市规划建设管理，依据《中华人民共和国城乡规划法》等法律法规，制定本办法。   第二条 城市、 县人民政府所在地建制镇开展城市设计管理工作，适用本办法。   第三条 城市设计是落实城市规划、指导建筑设计、塑造城市特色风貌的有效手段，贯穿于城市规划建设管理全过程。', 'score': 0.3751164940489914, 'meta': {'source': 'construction_regulations/城市设计管理办法.pdf', 'page': 0}}, {'content': '通过城市设计，从整体平面和立体空间上统筹城市建筑布局、协调城市景观风貌，体现地域特征、民族特色和时代风貌。\\n\\n  \\n\\n第四条 开展城市设计，应当符合城市（县人民政府所在地建制镇）总体规划和相关标准；尊重城市发展规律，坚持以人为本，保护自然环境，传承历史文化，塑造城市特色，优化城市形', 'score': 0.3691751371081077, 'meta': {'source': 'construction_regulations/城市设计管理办法.pdf', 'page': 0}}]}\n",
      "{'documents': [{'content': '有条件的地方可以建立城市设计管理辅助决策系统，并将城市设计要求纳入城市规划管理信息平台。   第七条 城市设计分为总体城市设计和重点地区城市设计。\\n\\n  \\n\\n第八条 总体城市设计应当确定城市风貌特色， 保护自然山水格局， 优化城市形态格局， 明确公共空间体系， 并可与城市 （县人民政府所在地建制镇）总体规划一并报批。', 'score': 0.3478173480657577, 'meta': {'source': 'construction_regulations/城市设计管理办法.pdf', 'page': 1}}, {'content': '住房和城乡建设部规章 \\n   X住房和城乡建设部发布  \\n- 1 -   城市设计管理办法 （2017年3月14日中华人民共和国住房和城乡建设部令第35号公布 自2017年6月1日起施行）    第一条 为提高城市建设水平，塑造城市风貌特色，推进城市设计工作，完善城市规划建设管理，依据《中华人民共和国城乡规划法》等法律法规，制定本办法。   第二条 城市、 县人民政府所在地建制镇开展城市设计管理工作，适用本办法。   第三条 城市设计是落实城市规划、指导建筑设计、塑造城市特色风貌的有效手段，贯穿于城市规划建设管理全过程。', 'score': 0.3001035752161507, 'meta': {'source': 'construction_regulations/城市设计管理办法.pdf', 'page': 0}}, {'content': '第十三条 编制城市设计时，组织编制机关应当通过座谈、论证、网络等多种形式及渠道，广泛征求专家和公众意见。\\n\\n审批前应依法进行公示，公示时间不少于30日。\\n\\n  \\n\\n城市设计成果应当自批准之日起20个工作日内，通过政府信息网站以及当地主要新闻媒体予以公布。   \\n\\n第十四条 重点地区城市设计的内容和要求应当纳入控制性详细规划，并落实到控制性详细规划的相关指标中。', 'score': 0.291188800259672, 'meta': {'source': 'construction_regulations/城市设计管理办法.pdf', 'page': 3}}]}\n"
     ]
    }
   ],
   "source": [
    "# 子query检索结果，每个子query都搜索出了多篇文档，扩大了召回\n",
    "for step in response.steps:\n",
    "    print(step.result)"
   ]
  },
  {
   "cell_type": "code",
   "execution_count": 11,
   "id": "9e6982d8-0d4c-49e1-8e31-d44c48605379",
   "metadata": {},
   "outputs": [
    {
     "data": {
      "text/plain": [
       "'城市设计管理办法的具体内容包括：\\n\\n1. 城市设计是落实城市规划、指导建筑设计、塑造城市特色风貌的有效手段，贯穿于城市规划建设管理全过程。\\n2. 城市设计分为总体城市设计和重点地区城市设计。总体城市设计应当确定城市风貌特色，保护自然山水格局，优化城市形态格局，明确公共空间体系，并可与城市（县人民政府所在地建制镇）总体规划一并报批。\\n3. 有条件的地方可以建立城市设计管理辅助决策系统，并将城市设计要求纳入城市规划管理信息平台。\\n4. 设计方案招标，是指主要通过对投标人提交的设计方案进行评审确定中标人。'"
      ]
     },
     "execution_count": 11,
     "metadata": {},
     "output_type": "execute_result"
    }
   ],
   "source": [
    "# 运行的结果\n",
    "response.text"
   ]
  },
  {
   "cell_type": "markdown",
   "id": "3c383106-96aa-4cd0-9d85-a1a97fef3726",
   "metadata": {},
   "source": [
    "## 4.2 使用compressor压缩子query检索结果\n",
    "\n",
    "一个复杂的Query，往往需要分解成若干个子query，但是每个子query检索到的结果往往包含了很多不相关或者重复的信息，但这些信息会占用大量的Token，可能会导致大模型的token长度过长的情况。其中一个解决方法就是把每个子query检索到的信息进行压缩，即只提取与子query相关的片段，或者进行简短的总结即可，然后把总结或者提取的内容当成是子query的结果，这样会比直接使用子query的结果更好。"
   ]
  },
  {
   "cell_type": "code",
   "execution_count": 12,
   "id": "8841c9a9-93dc-4b79-869f-fe538de57fa7",
   "metadata": {},
   "outputs": [],
   "source": [
    "memory = WholeMemory()\n",
    "agent = RetrievalAgent(\n",
    "    knowledge_base=search_tool,\n",
    "    use_compressor=True,\n",
    "    llm=llm,\n",
    "    top_k=3,\n",
    "    tools=[],\n",
    "    memory=memory,\n",
    ")"
   ]
  },
  {
   "cell_type": "code",
   "execution_count": 13,
   "id": "59bbe7b4-5781-425b-bfdb-9e5b4e533431",
   "metadata": {},
   "outputs": [],
   "source": [
    "query = \"城市设计管理办法有哪些具体的内容？\"\n",
    "response = await agent.run(query)"
   ]
  },
  {
   "cell_type": "code",
   "execution_count": 14,
   "id": "48e85e94-5173-410d-8c47-e9abc89330be",
   "metadata": {},
   "outputs": [
    {
     "name": "stdout",
     "output_type": "stream",
     "text": [
      "{'query': '城市设计管理办法的目标是什么？', 'name': 'sub query compressor 0'}\n",
      "{'query': '城市设计管理办法规定了哪些方面的要求？', 'name': 'sub query compressor 1'}\n",
      "{'query': '城市设计管理办法中对于城市设计的原则有哪些规定？', 'name': 'sub query compressor 2'}\n",
      "{'query': '城市设计管理办法中对于城市设计的实施过程有哪些规定？', 'name': 'sub query compressor 3'}\n",
      "{'query': '城市设计管理办法中对于城市设计的监督和评估有哪些规定？', 'name': 'sub query compressor 4'}\n"
     ]
    }
   ],
   "source": [
    "# 分解的子Query\n",
    "for step in response.steps:\n",
    "    print(step.info)"
   ]
  },
  {
   "cell_type": "code",
   "execution_count": 15,
   "id": "36e99dbb-38bf-4a44-8426-3182dc8952ca",
   "metadata": {},
   "outputs": [
    {
     "name": "stdout",
     "output_type": "stream",
     "text": [
      "{'content': '城市设计管理办法的目标是：\\n1. 提高城市建设水平\\n2. 塑造城市风貌特色\\n3. 推进城市设计工作\\n4. 完善城市规划建设管理', 'score': 0.3461942307827547, 'meta': {'source': 'construction_regulations/城市设计管理办法.pdf', 'page': 0}, 'sub_query': '城市设计管理办法的目标是什么？'}\n",
      "{'content': '1. 第七条 城市设计分为总体城市设计和重点地区城市设计。\\n2. 第八条 总体城市设计应当确定城市风貌特色，保护自然山水格局，优化城市形态格局，明确公共空间体系，并可与城市（县人民政府所在地建制镇）总体规划一并报批。\\n3. 第十一条 历史文化街区和历史风貌保护相关控制地区开展城市设计，应当根据相关保护规划和要求，整体安排空间格局，保护延续历史文化，明确新建建筑和改扩建建筑的控制要求。\\n4. 第十二条 城市设计重点地区范围以外地区，可以根据当地实际条件，依据总体城市设计，单独或者结合控制性详细规划等开展城市设计，明确建筑特色、公共空间和景观风貌等方面的要求。\\n5. 第十四条 重点地区城市设计的内容和要求应当纳入控制性详细规划，并落实到控制性详细规划的相关指标中。', 'score': 0.43130254209256125, 'meta': {'source': 'construction_regulations/城市设计管理办法.pdf', 'page': 1}, 'sub_query': '城市设计管理办法规定了哪些方面的要求？'}\n",
      "{'content': '城市设计管理办法中对于城市设计的原则规定如下：\\n\\n1. 城市设计应当符合城市（县人民政府所在地建制镇）总体规划和相关标准。\\n2. 城市设计应尊重城市发展规律，坚持以人为本，保护自然环境，传承历史文化，塑造城市特色，优化城市形态。\\n3. 在开展城市设计时，组织编制机关应通过多种形式及渠道，广泛征求专家和公众意见。\\n4. 审批前应依法进行公示，公示时间不少于30日。\\n5. 城市设计成果应当自批准之日起20个工作日内，通过政府信息网站以及当地主要新闻媒体予以公布。\\n6. 重点地区城市设计的内容和要求应当纳入控制性详细规划，并落实到控制性详细规划的相关指标中。', 'score': 0.3905979587377101, 'meta': {'source': 'construction_regulations/城市设计管理办法.pdf', 'page': 1}, 'sub_query': '城市设计管理办法中对于城市设计的原则有哪些规定？'}\n",
      "{'content': '城市设计管理办法中对于城市设计的实施过程的规定如下：\\n\\n1. 有条件的地方可以建立城市设计管理辅助决策系统，并将城市设计要求纳入城市规划管理信息平台。\\n2. 城市设计分为总体城市设计和重点地区城市设计。\\n3. 总体城市设计应当确定城市风貌特色，保护自然山水格局，优化城市形态格局，明确公共空间体系，并可与城市（县人民政府所在地建制镇）总体规划一并报批。\\n4. 编制城市设计时，组织编制机关应当通过座谈、论证、网络等多种形式及渠道，广泛征求专家和公众意见。审批前应依法进行公示，公示时间不少于30日。\\n5. 重点地区城市设计的内容和要求应当纳入控制性详细规划，并落实到控制性详细规划的相关指标中。\\n6. 住房和城乡建设部规章X住房和城乡建设部发布。\\n7. 城市、县人民政府城乡规划主管部门进行建筑设计方案审查和规划核实时，应当审核城市设计要求落实情况。\\n8. 城市、县人民政府城乡规划主管部门开展城市规划实施评估时，应当同时评估城市设计工作实施情况。\\n9. 城市设计的技术管理规定由国务院城乡规划主管部门另行制定。\\n10. 各地可根据本办法，按照实际情况，制定实施细则和技术导则。\\n11. 县人民政府所在地以外的镇可以参照本办法开展城市设计工作。\\n12. 本办法自2017年6月1日起施行。', 'score': 0.4251327492327486, 'meta': {'source': 'construction_regulations/城市设计管理办法.pdf', 'page': 1}, 'sub_query': '城市设计管理办法中对于城市设计的实施过程有哪些规定？'}\n",
      "{'content': '- 城市设计管理办法规定建立城市设计管理辅助决策系统，将城市设计要求纳入城市规划管理信息平台。\\n- 城市设计分为总体城市设计和重点地区城市设计，总体城市设计应确定城市风貌特色、保护自然山水格局、优化城市形态格局、明确公共空间体系，可与城市（县人民政府所在地建制镇）总体规划一并报批。\\n- 以出让方式提供国有土地使用权，以及在城市、县人民政府所在地建制镇规划区内的大型公共建筑项目，应当将城市设计要求纳入规划条件。\\n- 城市、县人民政府城乡规划主管部门负责组织编制本行政区域内总体城市设计、重点地区的城市设计，并报本级人民政府审批。\\n- 城市、县人民政府城乡规划主管部门开展城乡规划监督检查时，应当加强监督检查城市设计工作情况。\\n- 国务院和省、自治区人民政府城乡规划主管部门应当定期对各地的城市设计工作和风貌管理情况进行检查。\\n- 县级以上地方人民政府住房城乡建设主管部门依法对本行政区域内建筑工程设计招标投标活动实施监督，依法查处招标投标活动中的违法违规行为。', 'score': 0.441290670840067, 'meta': {'source': 'construction_regulations/城市设计管理办法.pdf', 'page': 1}, 'sub_query': '城市设计管理办法中对于城市设计的监督和评估有哪些规定？'}\n"
     ]
    }
   ],
   "source": [
    "# 压缩的子query检索结果，每个子query只提取了一篇文档，Token数被压缩\n",
    "for step in response.steps:\n",
    "    print(step.result)"
   ]
  },
  {
   "cell_type": "code",
   "execution_count": 16,
   "id": "c25b2af7-d9c1-4927-a175-e0edb1513d2e",
   "metadata": {},
   "outputs": [
    {
     "data": {
      "text/plain": [
       "'城市设计管理办法的具体内容主要包括以下几个方面：\\n\\n1. 目标：提高城市建设水平，塑造城市风貌特色，推进城市设计工作，完善城市规划建设管理。\\n2. 城市设计分类：总体城市设计和重点地区城市设计。总体城市设计应确定城市风貌特色，保护自然山水格局，优化城市形态格局，明确公共空间体系，可与城市（县人民政府所在地建制镇）总体规划一并报批。重点地区城市设计的内容和要求应当纳入控制性详细规划，并落实到控制性详细规划的相关指标中。\\n3. 原则：城市设计应当符合城市（县人民政府所在地建制镇）总体规划和相关标准；应尊重城市发展规律，坚持以人为本，保护自然环境，传承历史文化，塑造城市特色，优化城市形态；在开展城市设计时，组织编制机关应通过多种形式及渠道，广泛征求专家和公众意见；审批前应依法进行公示，公示时间不少于30日；城市设计成果应当自批准之日起20个工作日内，通过政府信息网站以及当地主要新闻媒体予以公布。\\n4. 实施过程：有条件的地方可以建立城市设计管理辅助决策系统，并将城市设计要求纳入城市规划管理信息平台；编制城市设计时，组织编制机关应当通过座谈、论证、网络等多种形式及渠道，广泛征求专家和公众意见；重点地区城市设计的内容和要求应当纳入控制性详细规划，并落实到控制性详细规划的相关指标中；住房和城乡建设部、城市、县人民政府城乡规划主管部门进行建筑设计方案审查和规划核实时，应当审核城市设计要求落实情况；城市、县人民政府城乡规划主管部门开展城市规划实施评估时，应当同时评估城市设计工作实施情况。\\n5. 其他规定：以出让方式提供国有土地使用权，以及在城市、县人民政府所在地建制镇规划区内的大型公共建筑项目，应当将城市设计要求纳入规划条件；县级以上地方人民政府住房城乡建设主管部门依法对本行政区域内建筑工程设计招标投标活动实施监督，依法查处招标投标活动中的违法违规行为。\\n\\n以上内容仅供参考，如果需要更具体的信息可以查看《城市设计管理办法》原文件第四章“实施与监督”部分。'"
      ]
     },
     "execution_count": 16,
     "metadata": {},
     "output_type": "execute_result"
    }
   ],
   "source": [
    "# 运行的结果\n",
    "response.text"
   ]
  },
  {
   "cell_type": "markdown",
   "id": "9210e882-9ce6-4bc6-8ae2-ef78ad336dd3",
   "metadata": {},
   "source": [
    "## 4.3 使用few shot example 来引导子query分解\n",
    "\n",
    "在利用大模型对复杂的Query分解成子query的时候，由于缺乏一些策略指导，大模型分解的子query会很随机，比如“请比较一下波士顿和姚明出生的城市的区别是什么？”，可能会被分解成：波士顿和姚明出生城市的人口，波士顿和姚明出生城市的GDP等。这些子Query虽然也比较简单具体，但不是最优的，不是我们预想的把两个城市拆开来生成子问题。因此，我们可以加入一些few shot样本来引导大模型按照我们的预想的方式来生成子问题，这样能够避免大模型出现很随机的子问题分解的情况。"
   ]
  },
  {
   "cell_type": "code",
   "execution_count": 31,
   "id": "a2158292-9959-4896-8f63-5d51b6294aa0",
   "metadata": {},
   "outputs": [],
   "source": [
    "# 根据GPT3的实验，few shot example 为3个比较合适，需要比较典型\n",
    "data_map = {\n",
    "    \"电动汽车的品牌有哪些？各有什么特点？\": [\n",
    "        \"当前市场上的主要电动汽车品牌。\",\n",
    "        \"每个品牌的电动汽车品牌的基本技术规格，如续航里程、充电速度等。\",\n",
    "        \"每个品牌的电动汽车型号，包括轿车、SUV、卡车等。\",\n",
    "        \"每个品牌的充电基础设施和网络覆盖情况。\",\n",
    "        \"每个品牌的电池技术和电动驱动系统。\",\n",
    "    ],\n",
    "    \"智能家居科技趋势及其在提高生活效率中的应用\": [\"当前最新的智能家居科技趋势是什么\", \"智能家居科技趋势的工作原理和特性\", \"哪些公司或产品正在引领这些智能家居科技趋势\"],\n",
    "    \"请比较一下拼多多和淘宝的区别？\": [\n",
    "        \"拼多多的产品定位是什么？\",\n",
    "        \"淘宝的产品定位是什么？\",\n",
    "        \"拼多多的GMV是多少？\",\n",
    "        \"淘宝的GMB是多少？\",\n",
    "    ],\n",
    "}"
   ]
  },
  {
   "cell_type": "code",
   "execution_count": 32,
   "id": "9793a8cc-0596-49b2-87f6-2482c3919eb2",
   "metadata": {},
   "outputs": [],
   "source": [
    "few_shot_examples = []\n",
    "for key, values in data_map.items():\n",
    "    meta_data = {}\n",
    "    for i in range(len(values)):\n",
    "        meta_data[f\"sub_query_{i+1}\"] = values[i]\n",
    "    doc = Document(page_content=key, metadata={\"sub_queries\": meta_data})\n",
    "    few_shot_examples.append(doc)"
   ]
  },
  {
   "cell_type": "code",
   "execution_count": 33,
   "id": "db22ba5a-385d-4e5a-81db-3dbf031082f0",
   "metadata": {},
   "outputs": [],
   "source": [
    "few_shot_retriever = FAISS.from_documents(few_shot_examples, embeddings)\n",
    "few_shot_search = LangChainRetrievalTool(few_shot_retriever)"
   ]
  },
  {
   "cell_type": "code",
   "execution_count": 34,
   "id": "b68478bb-3abd-4a5a-9025-ce6b28d36966",
   "metadata": {},
   "outputs": [],
   "source": [
    "memory = WholeMemory()\n",
    "agent = RetrievalAgent(\n",
    "    knowledge_base=search_tool,\n",
    "    few_shot_retriever=few_shot_search,\n",
    "    use_compressor=True,\n",
    "    llm=llm,\n",
    "    top_k=3,\n",
    "    tools=[],\n",
    "    memory=memory,\n",
    ")"
   ]
  },
  {
   "cell_type": "code",
   "execution_count": 35,
   "id": "5d5f0fc1-e416-479b-aa34-39ddd01d7a64",
   "metadata": {},
   "outputs": [],
   "source": [
    "query = \"请比较一下城市设计管理方法和城市照明管理规定的区别？\"\n",
    "response = await agent.run(query)"
   ]
  },
  {
   "cell_type": "code",
   "execution_count": 36,
   "id": "f2626d1a-0f32-4b71-985b-55d3eca9edfc",
   "metadata": {},
   "outputs": [
    {
     "name": "stdout",
     "output_type": "stream",
     "text": [
      "{'query': '城市设计管理方法的定义是什么？', 'name': 'sub query compressor 0'}\n",
      "{'query': '城市照明管理规定的定义是什么？', 'name': 'sub query compressor 1'}\n",
      "{'query': '城市设计管理方法的目的是什么？', 'name': 'sub query compressor 2'}\n",
      "{'query': '城市照明管理规定的目的是什么？', 'name': 'sub query compressor 3'}\n",
      "{'query': '城市设计管理方法和城市照明管理规定的应用场景有何不同？', 'name': 'sub query compressor 4'}\n"
     ]
    }
   ],
   "source": [
    "# 分解的子Query\n",
    "for step in response.steps:\n",
    "    if step.info[\"name\"] != \"few shot retriever\":\n",
    "        print(step.info)"
   ]
  },
  {
   "cell_type": "code",
   "execution_count": 37,
   "id": "f1a63135-4e6c-4785-893b-659c022c42f1",
   "metadata": {},
   "outputs": [
    {
     "data": {
      "text/plain": [
       "'城市设计管理方法和城市照明管理规定在应用场景、目的、关注点和管理方式上存在一定的差异。\\n\\n1. 应用场景：城市设计管理方法主要关注城市整体规划和布局，应用于城市总体规划、区域规划、建筑设计、景观设计等方面。而城市照明管理规定更侧重于城市照明设施的设置和维护，以确保城市照明效果符合要求，并保证公共安全和市容市貌的美观。\\n2. 目的和关注点：城市设计管理方法的目的是塑造城市风貌特色，完善城市规划建设管理。它关注整体平面和立体空间的统筹规划，建筑布局的协调，城市景观风貌的塑造，以及地域特征、民族特色和时代风貌的体现。而城市照明管理规定的目的是根据城市经济社会发展水平，结合城市自然地理环境、人文条件，按照城市总体规划确定的城市功能分区，对不同区域的照明效果提出要求。它更强调满足人们在户外活动和出行的安全需要，以及装饰和造景的作用。\\n3. 管理方式：城市设计管理方法可能需要政府和相关部门的综合规划和协调。而城市照明管理规定则需要具体的技术标准和操作规范，以确保照明设施的安全、稳定和效果达标。\\n\\n在实际应用中，需要根据具体情况综合考虑，以实现更好的城市发展和管理效果。'"
      ]
     },
     "execution_count": 37,
     "metadata": {},
     "output_type": "execute_result"
    }
   ],
   "source": [
    "# 运行的结果\n",
    "response.text"
   ]
  },
  {
   "cell_type": "markdown",
   "id": "37232e51-7030-4732-aa86-2534cfe6dd14",
   "metadata": {},
   "source": [
    "## 4.4 使用先验背景信息来引导子query分解\n",
    "在利用大模型对复杂的Query分解成子query的时候，由于缺少先验知识，即不知道知识库里面包含了哪些内容，因此在做query分解的时候，会生成一些无用的子query，比如：“请比较一下波士顿和姚明出生的城市的区别是什么？”，如果库里面没有对美食的论述，而分解子query的时候出现了：波士顿有哪些美食，姚明的城市有哪些美食。这类无用的query，占了搜索资源，又对最终答案无效，会造成一定的浪费。因此，我们使用context retriever的方式，在做复杂query分解的时候，根据检索到的上下文内容进行分解，这样可以避免很多无效的子query分解的问题。"
   ]
  },
  {
   "cell_type": "code",
   "execution_count": 38,
   "id": "2cc0257d-e5a8-46b2-b4bd-2dceec8517ee",
   "metadata": {},
   "outputs": [],
   "source": [
    "background_data = [\n",
    "    \"《城市管理执法办法》主要规定了城市管理执法的范围、主管部门、执法人员资格与行为准则、执法措施与程序，以及监督与责任追究机制，旨在确保城市管理执法活动规范、公正、文明，维护城市公共秩序和市容环境。\",\n",
    "    \"《城市设计管理办法》主要内容是规定了城市设计的编制、审批、实施和管理的相关要求，旨在通过科学、合理的城市设计，塑造城市特色风貌，提升城市环境质量，促进城市可持续发展。该办法强调了城市设计的综合性、整体性和长远性，明确了各级政府和相关部门在城市设计中的职责和作用，为城市设计工作的规范化、制度化提供了保障。\",\n",
    "]"
   ]
  },
  {
   "cell_type": "code",
   "execution_count": 39,
   "id": "5a1906c9-c73d-48f3-8cd6-09c51965879f",
   "metadata": {},
   "outputs": [],
   "source": [
    "background_info = []\n",
    "for item in background_data:\n",
    "    meta_data = {}\n",
    "    doc = Document(page_content=item)\n",
    "    background_info.append(doc)"
   ]
  },
  {
   "cell_type": "code",
   "execution_count": 40,
   "id": "a307d503-757f-48fd-bc25-ba70d4c2a755",
   "metadata": {},
   "outputs": [],
   "source": [
    "context_retriever = FAISS.from_documents(background_info, embeddings)\n",
    "context_search = LangChainRetrievalTool(context_retriever)"
   ]
  },
  {
   "cell_type": "code",
   "execution_count": 41,
   "id": "b6c5b4df-ae5b-4d76-913d-112f68d7f9fd",
   "metadata": {},
   "outputs": [],
   "source": [
    "memory = WholeMemory()\n",
    "agent = RetrievalAgent(\n",
    "    knowledge_base=search_tool,\n",
    "    context_retriever=context_search,\n",
    "    use_compressor=True,\n",
    "    llm=llm,\n",
    "    top_k=3,\n",
    "    tools=[],\n",
    "    memory=memory,\n",
    ")"
   ]
  },
  {
   "cell_type": "code",
   "execution_count": 42,
   "id": "105a2183-9fa3-4a14-825d-c555fcfa7748",
   "metadata": {},
   "outputs": [],
   "source": [
    "query = \"城市设计管理办法有哪些具体的内容？\"\n",
    "response = await agent.run(query)"
   ]
  },
  {
   "cell_type": "code",
   "execution_count": 43,
   "id": "22f52651-522a-4783-b7ca-bb135e6e9233",
   "metadata": {},
   "outputs": [
    {
     "name": "stdout",
     "output_type": "stream",
     "text": [
      "{'query': '城市设计管理办法主要规定的内容是什么？', 'name': 'sub query compressor 0'}\n",
      "{'query': '城市设计管理办法的具体实施和管理的相关要求是什么？', 'name': 'sub query compressor 1'}\n",
      "{'query': '城市设计管理办法如何强调城市设计的综合性、整体性和长远性？', 'name': 'sub query compressor 2'}\n",
      "{'query': '城市设计管理办法中各级政府和相关部门的职责和作用是什么？', 'name': 'sub query compressor 3'}\n",
      "{'query': '城市设计管理办法如何保障城市设计工作的规范化、制度化？', 'name': 'sub query compressor 4'}\n"
     ]
    }
   ],
   "source": [
    "# 分解的子Query\n",
    "for step in response.steps:\n",
    "    if step.info[\"name\"] != \"context retriever\":\n",
    "        print(step.info)"
   ]
  },
  {
   "cell_type": "code",
   "execution_count": 44,
   "id": "2c3f99c9-5d3b-455f-872f-c4d622deb680",
   "metadata": {},
   "outputs": [
    {
     "data": {
      "text/plain": [
       "'城市设计管理办法的具体内容包括：\\n\\n1. 总体城市设计应当确定城市风貌特色，保护自然山水格局，优化城市形态格局，明确公共空间体系，并可与城市（县人民政府所在地建制镇）总体规划一并报批。\\n2. 城市设计是落实城市规划、指导建筑设计、塑造城市特色风貌的有效手段，贯穿于城市规划建设管理全过程。\\n3. 重点地区城市设计的内容和要求应当纳入控制性详细规划，并落实到控制性详细规划的相关指标中。\\n4. 编制城市设计时，组织编制机关应当通过座谈、论证、网络等多种形式及渠道，广泛征求专家和公众意见。\\n5. 审批前应依法进行公示，公示时间不少于30日。\\n6. 城市设计成果应当自批准之日起20个工作日内，通过政府信息网站以及当地主要新闻媒体予以公布。\\n7. 有条件的地方可以建立城市设计管理辅助决策系统，并将城市设计要求纳入城市规划管理信息平台。\\n8. 城市、县人民政府城乡规划主管部门负责本行政区域内城市设计的监督管理。\\n9. 城市、县人民政府城乡规划主管部门，应当充分利用新技术开展城市设计工作。\\n10. 国务院和省、自治区人民政府城乡规划主管部门应当定期对各地的城市设计工作和风貌管理情况进行检查。\\n\\n这些规定和要求都强调了城市设计的目标和原则，以及其在整个城市规划建设管理过程中的重要性，可以有效地保障城市设计工作的规范化、制度化。'"
      ]
     },
     "execution_count": 44,
     "metadata": {},
     "output_type": "execute_result"
    }
   ],
   "source": [
    "# 运行的结果\n",
    "response.text"
   ]
  },
  {
   "cell_type": "code",
   "execution_count": null,
   "id": "88036cfb-950c-4de3-b686-de1cfb9b48d2",
   "metadata": {},
   "outputs": [],
   "source": []
  }
 ],
 "metadata": {
  "kernelspec": {
   "display_name": "Python 3 (ipykernel)",
   "language": "python",
   "name": "python3"
  },
  "language_info": {
   "codemirror_mode": {
    "name": "ipython",
    "version": 3
   },
   "file_extension": ".py",
   "mimetype": "text/x-python",
   "name": "python",
   "nbconvert_exporter": "python",
   "pygments_lexer": "ipython3",
   "version": "3.9.12"
  }
 },
 "nbformat": 4,
 "nbformat_minor": 5
}

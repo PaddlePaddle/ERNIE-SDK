{
 "cells": [
  {
   "cell_type": "markdown",
   "id": "4d02aa9a-d7bb-4242-909c-7e41d05af1b8",
   "metadata": {},
   "source": [
    "# 1. 使用langchain"
   ]
  },
  {
   "cell_type": "code",
   "execution_count": null,
   "id": "ea8ea79b-4637-4a56-a169-d5947c9b0763",
   "metadata": {},
   "outputs": [],
   "source": [
    "!pip install langchain"
   ]
  },
  {
   "cell_type": "markdown",
   "id": "32846bb2-6f4e-40a8-9171-57ba82bd6a1c",
   "metadata": {},
   "source": [
    "# 2. 导入第三方库"
   ]
  },
  {
   "cell_type": "code",
   "execution_count": 1,
   "id": "1af83f85-a984-44f7-b425-bd13367d68e1",
   "metadata": {},
   "outputs": [],
   "source": [
    "import os\n",
    "import sys\n",
    "import tarfile\n",
    "\n",
    "from erniebot_agent.agents import RetrievalAgent\n",
    "from erniebot_agent.chat_models import ERNIEBot\n",
    "from erniebot_agent.memory import WholeMemory\n",
    "from erniebot_agent.retrieval import BaizhongSearch\n",
    "from erniebot_agent.tools.baizhong_tool import BaizhongSearchTool\n",
    "from erniebot_agent.tools.langchain_retrieval_tool import LangChainRetrievalTool\n",
    "from langchain.docstore.document import Document\n",
    "from erniebot_agent.extensions.langchain.embeddings import ErnieEmbeddings\n",
    "from langchain_community.vectorstores import FAISS\n",
    "from langchain.document_loaders import PyPDFDirectoryLoader\n",
    "from langchain.text_splitter import SpacyTextSplitter\n",
    "from erniebot_agent.utils.common import download_file"
   ]
  },
  {
   "cell_type": "markdown",
   "id": "64af2577-3810-4f63-bdf4-b9eb7935c36a",
   "metadata": {},
   "source": [
    "使用aistudio access token, 申请地址请参考[accessToken](https://aistudio.baidu.com/index/accessToken)"
   ]
  },
  {
   "cell_type": "code",
   "execution_count": 2,
   "id": "2ca61c2f-aff9-4661-8f30-2ad7c1c2708b",
   "metadata": {},
   "outputs": [],
   "source": [
    "aistudio_access_token = \"<your aistudio access token>\"\n",
    "os.environ[\"EB_AGENT_ACCESS_TOKEN\"] = aistudio_access_token\n",
    "os.environ[\"AISTUDIO_ACCESS_TOKEN\"] = aistudio_access_token"
   ]
  },
  {
   "cell_type": "markdown",
   "id": "16f36ec4-912d-471c-ac76-f8b2e12530ce",
   "metadata": {},
   "source": [
    "# 3. 预处理\n",
    "\n",
    "## 3.1 下载数据集"
   ]
  },
  {
   "cell_type": "code",
   "execution_count": 3,
   "id": "152e7da5-d124-46e9-b049-1be30c5259ab",
   "metadata": {},
   "outputs": [],
   "source": [
    "if not os.path.exists(\"construction_regulations\"):\n",
    "    file_path = \"construction_regulations.tar\"\n",
    "    download_file(\n",
    "        url=\"https://paddlenlp.bj.bcebos.com/datasets/examples/construction_regulations.tar\",\n",
    "        save_path=file_path,\n",
    "    )\n",
    "\n",
    "    files = tarfile.open(file_path, \"r:*\")\n",
    "    file_dir = os.path.dirname(file_path)\n",
    "    files.extractall(file_dir, files.getmembers())\n",
    "# ! wget https://paddlenlp.bj.bcebos.com/datasets/examples/construction_regulations.tar\n",
    "# ! tar xvf construction_regulations.tar"
   ]
  },
  {
   "cell_type": "markdown",
   "id": "bbab23b1-679d-49f7-b763-d9b7cf1bd51a",
   "metadata": {},
   "source": [
    "## 3.2 构建知识库"
   ]
  },
  {
   "cell_type": "code",
   "execution_count": 4,
   "id": "119fdb2b-7716-48be-a444-a2437ff55033",
   "metadata": {},
   "outputs": [],
   "source": [
    "embeddings = ErnieEmbeddings()"
   ]
  },
  {
   "cell_type": "code",
   "execution_count": 5,
   "id": "1a05a9e9-579e-440a-a87a-22fab69b61e3",
   "metadata": {},
   "outputs": [],
   "source": [
    "faiss_name = \"faiss_index\"\n",
    "if os.path.exists(faiss_name):\n",
    "    db = FAISS.load_local(faiss_name, embeddings)\n",
    "else:\n",
    "    loader = PyPDFDirectoryLoader(\"construction_regulations\")\n",
    "    documents = loader.load()\n",
    "    text_splitter = SpacyTextSplitter(pipeline=\"zh_core_web_sm\", chunk_size=320, chunk_overlap=0)\n",
    "    docs = text_splitter.split_documents(documents)\n",
    "    db = FAISS.from_documents(docs, embeddings)\n",
    "    db.save_local(faiss_name)"
   ]
  },
  {
   "cell_type": "markdown",
   "id": "09bdae76-4022-4688-ac0c-25e21095d59d",
   "metadata": {},
   "source": [
    "# 4. 基于复杂Query分解的RetrievalAgent\n",
    "## 4.1 复杂Query任务规划\n",
    "在实际的问答场景，用户提出的Query往往是复杂的，比如用户问:\"请比较一下波士顿和姚明出生的城市的区别是什么？\"，这个问题涉及到了两个城市，并且还要比较两个城市的区别，如果直接把这个问题当成检索的Query，如果库里面没有直接回答这个问题的答案，那么这个问题就不能被正确检索，导致召回的结果与该Query的相关度偏低，最后就不能被正确的回复。\n",
    "\n",
    "解决复杂Query的比较好的方法就是把复杂的Query分解成比较简单的子问题，比如上面的问题可以分解成：波士顿的人口，波士顿的GDP，姚明出生的城市，姚明出生城市的人口，姚明出生城市的GDP等。这些子问题一般都能够检索到正确的答案，最后大模型把这些子问题的答案进行汇总，得到这个query的最终的答案。"
   ]
  },
  {
   "cell_type": "code",
   "execution_count": 6,
   "id": "716e4494-38fe-43f8-a4ff-6e02fc031fd4",
   "metadata": {},
   "outputs": [],
   "source": [
    "search_tool = LangChainRetrievalTool(db=db, threshold=0.0)\n",
    "llm = ERNIEBot(model=\"ernie-3.5\", api_type=\"aistudio\")\n",
    "memory = WholeMemory()\n",
    "agent = RetrievalAgent(\n",
    "    knowledge_base=search_tool,\n",
    "    use_compressor=False,\n",
    "    llm=llm,\n",
    "    top_k=3,\n",
    "    tools=[],\n",
    "    memory=memory,\n",
    ")"
   ]
  },
  {
   "cell_type": "code",
   "execution_count": 7,
   "id": "84319cca-ad91-41e3-bc58-60b2437297c6",
   "metadata": {},
   "outputs": [
    {
     "data": {
      "text/plain": [
       "AgentResponse(text='城市设计管理办法的具体内容包括以下几点：\\n\\n1. 建立城市设计管理辅助决策系统，并将城市设计要求纳入城市规划管理信息平台。\\n2. 城市设计分为总体城市设计和重点地区城市设计。总体城市设计应当确定城市风貌特色，保护自然山水格局，优化城市形态格局，明确公共空间体系，并可与城市（县人民政府所在地建制镇）总体规划一并报批。\\n3. 编制城市设计时，应广泛征求专家和公众意见，审批前应依法进行公示，公示时间不少于30日。城市设计成果应当自批准之日起20个工作日内，通过政府信息网站以及当地主要新闻媒体予以公布。\\n4. 重点地区城市设计的内容和要求应当纳入控制性详细规划，并落实到控制性详细规划的相关指标中。\\n5. 城市、县人民政府城乡规划主管部门进行建筑设计方案审查和规划核实时，应当审核城市设计要求落实情况。同时，在开展城市规划实施评估时，应当同时评估城市设计工作实施情况。\\n6. 城市设计的技术管理规定由国务院城乡规划主管部门另行制定。各地可根据本办法，按照实际情况，制定实施细则和技术导则。县人民政府所在地以外的镇可以参照本办法开展城市设计工作。\\n7. 本办法自2017年6月1日起施行。\\n\\n以上内容仅供参考，如需获取更多信息，建议查阅《城市设计管理办法》原文件第四章“实施与监督”部分。', chat_history=[<HumanMessage role: 'user', content: '检索结果:\\n\\n    第1个段落: 有条件的地方可以建立城市设计管理辅助决策系统，并将城市设计要求纳入城市规划管理信息平台。   第七条 城市设计分为总体城市设计和重点地区城市设计。\\n\\n  \\n\\n第八条 总体城市设计应当确定城市风貌特色， 保护自然山水格局， 优化城市形态格局， 明确公共空间体系， 并可与城市 （县人民政府所在地建制镇）总体规划一并报批。\\n\\n    第2个段落: 第十三条 编制城市设计时，组织编制机关应当通过座谈、论证、网络等多种形式及渠道，广泛征求专家和公众意见。\\n\\n审批前应依法进行公示，公示时间不少于30日。\\n\\n  \\n\\n城市设计成果应当自批准之日起20个工作日内，通过政府信息网站以及当地主要新闻媒体予以公布。   \\n\\n第十四条 重点地区城市设计的内容和要求应当纳入控制性详细规划，并落实到控制性详细规划的相关指标中。\\n\\n    第3个段落: 住房和城乡建设部规章 \\n   X住房和城乡建设部发布  \\n- 6 -   第二十条 城市、 县人民政府城乡规划主管部门进行建筑设计方案审查和规划核实时，应当审核城市设计要求落实情况。\\n\\n  \\n\\n第二十一条 城市、 县人民政府城乡规划主管部门开展城市规划实施评估时，应当同时评估城市设计工作实施情况。   第二十二条 城市设计的技术管理规定由国务院城乡规划主管部门另行制定。   第二十三条 各地可根据本办法，按照实际情况，制定实施细则和技术导则。   第二十四条 县人民政府所在地以外的镇可以参照本办法开展城市设计工作。   第二十五条 本办法自2017年6月1日起施行。\\n\\n检索语句: 城市设计管理办法有哪些具体的内容？\\n请根据以上检索结果回答检索语句的问题', token_count: 411>, <AIMessage role: 'assistant', content: '城市设计管理办法的具体内容包括以下几点：\\n\\n1. 建立城市设计管理辅助决策系统，并将城市设计要求纳入城市规划管理信息平台。\\n2. 城市设计分为总体城市设计和重点地区城市设计。总体城市设计应当确定城市风貌特色，保护自然山水格局，优化城市形态格局，明确公共空间体系，并可与城市（县人民政府所在地建制镇）总体规划一并报批。\\n3. 编制城市设计时，应广泛征求专家和公众意见，审批前应依法进行公示，公示时间不少于30日。城市设计成果应当自批准之日起20个工作日内，通过政府信息网站以及当地主要新闻媒体予以公布。\\n4. 重点地区城市设计的内容和要求应当纳入控制性详细规划，并落实到控制性详细规划的相关指标中。\\n5. 城市、县人民政府城乡规划主管部门进行建筑设计方案审查和规划核实时，应当审核城市设计要求落实情况。同时，在开展城市规划实施评估时，应当同时评估城市设计工作实施情况。\\n6. 城市设计的技术管理规定由国务院城乡规划主管部门另行制定。各地可根据本办法，按照实际情况，制定实施细则和技术导则。县人民政府所在地以外的镇可以参照本办法开展城市设计工作。\\n7. 本办法自2017年6月1日起施行。\\n\\n以上内容仅供参考，如需获取更多信息，建议查阅《城市设计管理办法》原文件第四章“实施与监督”部分。', token_count: 315>], steps=[AgentStep(info={'query': '城市设计管理办法中包含哪些具体规定？', 'name': 'sub query results 0'}, result={'documents': [{'content': '有条件的地方可以建立城市设计管理辅助决策系统，并将城市设计要求纳入城市规划管理信息平台。   第七条 城市设计分为总体城市设计和重点地区城市设计。\\n\\n  \\n\\n第八条 总体城市设计应当确定城市风貌特色， 保护自然山水格局， 优化城市形态格局， 明确公共空间体系， 并可与城市 （县人民政府所在地建制镇）总体规划一并报批。', 'score': 0.4031544742866211, 'meta': {'source': 'construction_regulations/城市设计管理办法.pdf', 'page': 1}}, {'content': '第十三条 编制城市设计时，组织编制机关应当通过座谈、论证、网络等多种形式及渠道，广泛征求专家和公众意见。\\n\\n审批前应依法进行公示，公示时间不少于30日。\\n\\n  \\n\\n城市设计成果应当自批准之日起20个工作日内，通过政府信息网站以及当地主要新闻媒体予以公布。   \\n\\n第十四条 重点地区城市设计的内容和要求应当纳入控制性详细规划，并落实到控制性详细规划的相关指标中。', 'score': 0.3339660813305919, 'meta': {'source': 'construction_regulations/城市设计管理办法.pdf', 'page': 3}}, {'content': '住房和城乡建设部规章 \\n   X住房和城乡建设部发布  \\n- 6 -   第二十条 城市、 县人民政府城乡规划主管部门进行建筑设计方案审查和规划核实时，应当审核城市设计要求落实情况。\\n\\n  \\n\\n第二十一条 城市、 县人民政府城乡规划主管部门开展城市规划实施评估时，应当同时评估城市设计工作实施情况。   第二十二条 城市设计的技术管理规定由国务院城乡规划主管部门另行制定。   第二十三条 各地可根据本办法，按照实际情况，制定实施细则和技术导则。   第二十四条 县人民政府所在地以外的镇可以参照本办法开展城市设计工作。   第二十五条 本办法自2017年6月1日起施行。', 'score': 0.32974229276022415, 'meta': {'source': 'construction_regulations/城市设计管理办法.pdf', 'page': 5}}]}), AgentStep(info={'query': '城市设计管理办法中如何定义和执行？', 'name': 'sub query results 1'}, result={'documents': [{'content': '有条件的地方可以建立城市设计管理辅助决策系统，并将城市设计要求纳入城市规划管理信息平台。   第七条 城市设计分为总体城市设计和重点地区城市设计。\\n\\n  \\n\\n第八条 总体城市设计应当确定城市风貌特色， 保护自然山水格局， 优化城市形态格局， 明确公共空间体系， 并可与城市 （县人民政府所在地建制镇）总体规划一并报批。', 'score': 0.3305219251639787, 'meta': {'source': 'construction_regulations/城市设计管理办法.pdf', 'page': 1}}, {'content': '住房和城乡建设部规章 \\n   X住房和城乡建设部发布  \\n- 1 -   城市设计管理办法 （2017年3月14日中华人民共和国住房和城乡建设部令第35号公布 自2017年6月1日起施行）    第一条 为提高城市建设水平，塑造城市风貌特色，推进城市设计工作，完善城市规划建设管理，依据《中华人民共和国城乡规划法》等法律法规，制定本办法。   第二条 城市、 县人民政府所在地建制镇开展城市设计管理工作，适用本办法。   第三条 城市设计是落实城市规划、指导建筑设计、塑造城市特色风貌的有效手段，贯穿于城市规划建设管理全过程。', 'score': 0.2985508431701609, 'meta': {'source': 'construction_regulations/城市设计管理办法.pdf', 'page': 0}}, {'content': '住房和城乡建设部规章 \\n   X住房和城乡建设部发布  \\n- 6 -   第二十条 城市、 县人民政府城乡规划主管部门进行建筑设计方案审查和规划核实时，应当审核城市设计要求落实情况。\\n\\n  \\n\\n第二十一条 城市、 县人民政府城乡规划主管部门开展城市规划实施评估时，应当同时评估城市设计工作实施情况。   第二十二条 城市设计的技术管理规定由国务院城乡规划主管部门另行制定。   第二十三条 各地可根据本办法，按照实际情况，制定实施细则和技术导则。   第二十四条 县人民政府所在地以外的镇可以参照本办法开展城市设计工作。   第二十五条 本办法自2017年6月1日起施行。', 'score': 0.29118981178403625, 'meta': {'source': 'construction_regulations/城市设计管理办法.pdf', 'page': 5}}]}), AgentStep(info={'query': '城市设计管理办法中有哪些特定的管理措施？', 'name': 'sub query results 2'}, result={'documents': [{'content': '第十条 城市管理执法主管部门依法相对集中行使行政处罚权的， 可以实施法律法规规定的与行政处罚权相关的行政强制措施。', 'score': 0.3889875276561088, 'meta': {'source': 'construction_regulations/城市管理执法办法.pdf', 'page': 2}}, {'content': '有条件的地方可以建立城市设计管理辅助决策系统，并将城市设计要求纳入城市规划管理信息平台。   第七条 城市设计分为总体城市设计和重点地区城市设计。\\n\\n  \\n\\n第八条 总体城市设计应当确定城市风貌特色， 保护自然山水格局， 优化城市形态格局， 明确公共空间体系， 并可与城市 （县人民政府所在地建制镇）总体规划一并报批。', 'score': 0.36684989547576174, 'meta': {'source': 'construction_regulations/城市设计管理办法.pdf', 'page': 1}}, {'content': '住房和城乡建设部规章 \\n   X住房和城乡建设部发布  \\n- 1 -   城市设计管理办法 （2017年3月14日中华人民共和国住房和城乡建设部令第35号公布 自2017年6月1日起施行）    第一条 为提高城市建设水平，塑造城市风貌特色，推进城市设计工作，完善城市规划建设管理，依据《中华人民共和国城乡规划法》等法律法规，制定本办法。   第二条 城市、 县人民政府所在地建制镇开展城市设计管理工作，适用本办法。   第三条 城市设计是落实城市规划、指导建筑设计、塑造城市特色风貌的有效手段，贯穿于城市规划建设管理全过程。', 'score': 0.3057557626294012, 'meta': {'source': 'construction_regulations/城市设计管理办法.pdf', 'page': 0}}]}), AgentStep(info={'query': '城市设计管理办法是否涉及到了环境保护和可持续发展？', 'name': 'sub query results 3'}, result={'documents': [{'content': '有条件的地方可以建立城市设计管理辅助决策系统，并将城市设计要求纳入城市规划管理信息平台。   第七条 城市设计分为总体城市设计和重点地区城市设计。\\n\\n  \\n\\n第八条 总体城市设计应当确定城市风貌特色， 保护自然山水格局， 优化城市形态格局， 明确公共空间体系， 并可与城市 （县人民政府所在地建制镇）总体规划一并报批。', 'score': 0.36221627095047404, 'meta': {'source': 'construction_regulations/城市设计管理办法.pdf', 'page': 1}}, {'content': '通过城市设计，从整体平面和立体空间上统筹城市建筑布局、协调城市景观风貌，体现地域特征、民族特色和时代风貌。\\n\\n  \\n\\n第四条 开展城市设计，应当符合城市（县人民政府所在地建制镇）总体规划和相关标准；尊重城市发展规律，坚持以人为本，保护自然环境，传承历史文化，塑造城市特色，优化城市形', 'score': 0.31976878896915173, 'meta': {'source': 'construction_regulations/城市设计管理办法.pdf', 'page': 0}}, {'content': '住房和城乡建设部规章 \\n   X住房和城乡建设部发布  \\n-\\n\\n4 -   第十一条 历史文化街区和历史风貌保护相关控制地区开展城市设计， 应当根据相关保护规划和要求， 整体安排空间格局，保护延续历史文化，明确新建建筑和改扩建建筑的控制要求。   \\n\\n重要街道、街区开展城市设计，应当根据居民生活和城市公共活动需要，统筹交通组织，合理布置交通设施、市政设施、街道家具，拓展步行活动和绿化空间，提升街道特色和活力。   \\n\\n第十二条 城市设计重点地区范围以外地区， 可以根据当地实际条件，依据总体城市设计，单独或者结合控制性详细规划等开展城市设计，明确建筑特色、公共空间和景观风貌等方面的要求。', 'score': 0.3194638565201754, 'meta': {'source': 'construction_regulations/城市设计管理办法.pdf', 'page': 3}}]}), AgentStep(info={'query': '城市设计管理办法是否包含了对城市规划的指导和要求？', 'name': 'sub query results 4'}, result={'documents': [{'content': '有条件的地方可以建立城市设计管理辅助决策系统，并将城市设计要求纳入城市规划管理信息平台。   第七条 城市设计分为总体城市设计和重点地区城市设计。\\n\\n  \\n\\n第八条 总体城市设计应当确定城市风貌特色， 保护自然山水格局， 优化城市形态格局， 明确公共空间体系， 并可与城市 （县人民政府所在地建制镇）总体规划一并报批。', 'score': 0.3526924318861643, 'meta': {'source': 'construction_regulations/城市设计管理办法.pdf', 'page': 1}}, {'content': '住房和城乡建设部规章 \\n   X住房和城乡建设部发布  \\n- 1 -   城市设计管理办法 （2017年3月14日中华人民共和国住房和城乡建设部令第35号公布 自2017年6月1日起施行）    第一条 为提高城市建设水平，塑造城市风貌特色，推进城市设计工作，完善城市规划建设管理，依据《中华人民共和国城乡规划法》等法律法规，制定本办法。   第二条 城市、 县人民政府所在地建制镇开展城市设计管理工作，适用本办法。   第三条 城市设计是落实城市规划、指导建筑设计、塑造城市特色风貌的有效手段，贯穿于城市规划建设管理全过程。', 'score': 0.3429161331992744, 'meta': {'source': 'construction_regulations/城市设计管理办法.pdf', 'page': 0}}, {'content': '住房和城乡建设部规章 \\n   X住房和城乡建设部发布  \\n- 6 -   第二十条 城市、 县人民政府城乡规划主管部门进行建筑设计方案审查和规划核实时，应当审核城市设计要求落实情况。\\n\\n  \\n\\n第二十一条 城市、 县人民政府城乡规划主管部门开展城市规划实施评估时，应当同时评估城市设计工作实施情况。   第二十二条 城市设计的技术管理规定由国务院城乡规划主管部门另行制定。   第二十三条 各地可根据本办法，按照实际情况，制定实施细则和技术导则。   第二十四条 县人民政府所在地以外的镇可以参照本办法开展城市设计工作。   第二十五条 本办法自2017年6月1日起施行。', 'score': 0.33060963275572985, 'meta': {'source': 'construction_regulations/城市设计管理办法.pdf', 'page': 5}}]})], status='FINISHED')"
      ]
     },
     "execution_count": 7,
     "metadata": {},
     "output_type": "execute_result"
    }
   ],
   "source": [
    "query = \"城市设计管理办法有哪些具体的内容？\"\n",
    "response = await agent.run(query)\n",
    "response"
   ]
  },
  {
   "cell_type": "markdown",
   "id": "3c383106-96aa-4cd0-9d85-a1a97fef3726",
   "metadata": {},
   "source": [
    "## 4.2 使用compressor压缩子query检索结果\n",
    "\n",
    "一个复杂的Query，往往需要分解成若干个子query，但是每个子query检索到的结果往往包含了很多不相关或者重复的信息，但这些信息会占用大量的Token，可能会导致大模型的token长度过长的情况。其中一个解决方法就是把每个子query检索到的信息进行压缩，即只提取与子query相关的片段，或者进行简短的总结即可，然后把总结或者提取的内容当成是子query的结果，这样会比直接使用子query的结果更好。"
   ]
  },
  {
   "cell_type": "code",
   "execution_count": 8,
   "id": "8841c9a9-93dc-4b79-869f-fe538de57fa7",
   "metadata": {},
   "outputs": [],
   "source": [
    "memory = WholeMemory()\n",
    "agent = RetrievalAgent(\n",
    "    knowledge_base=search_tool,\n",
    "    use_compressor=True,\n",
    "    llm=llm,\n",
    "    top_k=3,\n",
    "    tools=[],\n",
    "    memory=memory,\n",
    ")"
   ]
  },
  {
   "cell_type": "code",
   "execution_count": 9,
   "id": "59bbe7b4-5781-425b-bfdb-9e5b4e533431",
   "metadata": {},
   "outputs": [
    {
     "data": {
      "text/plain": [
       "AgentResponse(text='城市设计管理办法的具体内容包括：\\n\\n1. 城市设计分为总体城市设计和重点地区城市设计。\\n2. 总体城市设计应当确定城市风貌特色，保护自然山水格局，优化城市形态格局，明确公共空间体系，并可与城市（县人民政府所在地建制镇）总体规划一并报批。\\n3. 在编制城市设计时，组织编制机关应当通过座谈、论证、网络等多种形式及渠道，广泛征求专家和公众意见。审批前应依法进行公示，公示时间不少于30日。\\n4. 重点地区城市设计的内容和要求应当纳入控制性详细规划，并落实到控制性详细规划的相关指标中。', chat_history=[<HumanMessage role: 'user', content: '检索结果:\\n\\n    第1个段落: 城市设计管理办法的目标是：\\n1. 提高城市建设水平\\n2. 塑造城市风貌特色\\n3. 推进城市设计工作\\n4. 完善城市规划建设管理\\n\\n    第2个段落: 城市设计管理办法涵盖的方面有：\\n1. 确定城市风貌特色，保护自然山水格局，优化城市形态格局，明确公共空间体系；\\n2. 总体城市设计可与城市（县人民政府所在地建制镇）总体规划一并报批；\\n3. 城市设计是落实城市规划、指导建筑设计、塑造城市特色风貌的有效手段，贯穿于城市规划建设管理全过程；\\n4. 城市、县人民政府城乡规划主管部门进行建筑设计方案审查和规划核实时，应审核城市设计要求落实情况；\\n5. 城市、县人民政府城乡规划主管部门开展城市规划实施评估时，应同时评估城市设计工作实施情况；\\n6. 城市设计的技术管理规定由国务院城乡规划主管部门另行制定；\\n7. 各地可根据本办法，按照实际情况，制定实施细则和技术导则；\\n8. 县人民政府所在地以外的镇可以参照本办法开展城市设计工作；\\n9. 本办法自2017年6月1日起施行。\\n\\n    第3个段落: 城市设计管理办法的实施主要通过以下几个方面进行：\\n\\n1. 建立城市设计管理辅助决策系统，并将城市设计要求纳入城市规划管理信息平台，以实现城市设计的有效管理和监督。\\n2. 城市设计分为总体城市设计和重点地区城市设计，总体城市设计应当确定城市风貌特色，保护自然山水格局，优化城市形态格局，明确公共空间体系，并与城市（县人民政府所在地建制镇）总体规划一并报批。\\n3. 城市设计是落实城市规划、指导建筑设计、塑造城市特色风貌的有效手段，其目标是推进城市设计工作，完善城市规划建设管理，提高城市建设水平，塑造城市风貌特色。\\n4. 开展城市设计需要遵循城市（县人民政府所在地建制镇）总体规划和相关标准，尊重城市发展规律，坚持以人为本，保护自然环境，传承历史文化，塑造城市特色，优化城市形态。\\n\\n    第4个段落: 城市设计管理办法的具体内容包括：\\n1. 第七条：城市设计分为总体城市设计和重点地区城市设计。\\n2. 第八条：总体城市设计应当确定城市风貌特色，保护自然山水格局，优化城市形态格局，明确公共空间体系，并可与城市（县人民政府所在地建制镇）总体规划一并报批。\\n3. 第十三条：编制城市设计时，组织编制机关应当通过座谈、论证、网络等多种形式及渠道，广泛征求专家和公众意见。审批前应依法进行公示，公示时间不少于30日。\\n4. 第十四条：重点地区城市设计的内容和要求应当纳入控制性详细规划，并落实到控制性详细规划的相关指标中。\\n\\n检索语句: 城市设计管理办法有哪些具体的内容？\\n请根据以上检索结果回答检索语句的问题', token_count: 660>, <AIMessage role: 'assistant', content: '城市设计管理办法的具体内容包括：\\n\\n1. 城市设计分为总体城市设计和重点地区城市设计。\\n2. 总体城市设计应当确定城市风貌特色，保护自然山水格局，优化城市形态格局，明确公共空间体系，并可与城市（县人民政府所在地建制镇）总体规划一并报批。\\n3. 在编制城市设计时，组织编制机关应当通过座谈、论证、网络等多种形式及渠道，广泛征求专家和公众意见。审批前应依法进行公示，公示时间不少于30日。\\n4. 重点地区城市设计的内容和要求应当纳入控制性详细规划，并落实到控制性详细规划的相关指标中。', token_count: 144>], steps=[AgentStep(info={'query': '城市设计管理办法的目标是什么？', 'name': 'sub query compressor 0'}, result={'content': '城市设计管理办法的目标是：\\n1. 提高城市建设水平\\n2. 塑造城市风貌特色\\n3. 推进城市设计工作\\n4. 完善城市规划建设管理', 'score': 0.3461942307827547, 'meta': {'source': 'construction_regulations/城市设计管理办法.pdf', 'page': 0}, 'sub_query': '城市设计管理办法的目标是什么？'}), AgentStep(info={'query': '城市设计管理办法涵盖了哪些方面？', 'name': 'sub query compressor 1'}, result={'content': '城市设计管理办法涵盖的方面有：\\n1. 确定城市风貌特色，保护自然山水格局，优化城市形态格局，明确公共空间体系；\\n2. 总体城市设计可与城市（县人民政府所在地建制镇）总体规划一并报批；\\n3. 城市设计是落实城市规划、指导建筑设计、塑造城市特色风貌的有效手段，贯穿于城市规划建设管理全过程；\\n4. 城市、县人民政府城乡规划主管部门进行建筑设计方案审查和规划核实时，应审核城市设计要求落实情况；\\n5. 城市、县人民政府城乡规划主管部门开展城市规划实施评估时，应同时评估城市设计工作实施情况；\\n6. 城市设计的技术管理规定由国务院城乡规划主管部门另行制定；\\n7. 各地可根据本办法，按照实际情况，制定实施细则和技术导则；\\n8. 县人民政府所在地以外的镇可以参照本办法开展城市设计工作；\\n9. 本办法自2017年6月1日起施行。', 'score': 0.3958064241298378, 'meta': {'source': 'construction_regulations/城市设计管理办法.pdf', 'page': 1}, 'sub_query': '城市设计管理办法涵盖了哪些方面？'}), AgentStep(info={'query': '城市设计管理办法如何实施？', 'name': 'sub query compressor 2'}, result={'content': '城市设计管理办法的实施主要通过以下几个方面进行：\\n\\n1. 建立城市设计管理辅助决策系统，并将城市设计要求纳入城市规划管理信息平台，以实现城市设计的有效管理和监督。\\n2. 城市设计分为总体城市设计和重点地区城市设计，总体城市设计应当确定城市风貌特色，保护自然山水格局，优化城市形态格局，明确公共空间体系，并与城市（县人民政府所在地建制镇）总体规划一并报批。\\n3. 城市设计是落实城市规划、指导建筑设计、塑造城市特色风貌的有效手段，其目标是推进城市设计工作，完善城市规划建设管理，提高城市建设水平，塑造城市风貌特色。\\n4. 开展城市设计需要遵循城市（县人民政府所在地建制镇）总体规划和相关标准，尊重城市发展规律，坚持以人为本，保护自然环境，传承历史文化，塑造城市特色，优化城市形态。', 'score': 0.4074113481330699, 'meta': {'source': 'construction_regulations/城市设计管理办法.pdf', 'page': 1}, 'sub_query': '城市设计管理办法如何实施？'}), AgentStep(info={'query': '城市设计管理办法的具体内容包括哪些规定？', 'name': 'sub query compressor 3'}, result={'content': '城市设计管理办法的具体内容包括：\\n1. 第七条：城市设计分为总体城市设计和重点地区城市设计。\\n2. 第八条：总体城市设计应当确定城市风貌特色，保护自然山水格局，优化城市形态格局，明确公共空间体系，并可与城市（县人民政府所在地建制镇）总体规划一并报批。\\n3. 第十三条：编制城市设计时，组织编制机关应当通过座谈、论证、网络等多种形式及渠道，广泛征求专家和公众意见。审批前应依法进行公示，公示时间不少于30日。\\n4. 第十四条：重点地区城市设计的内容和要求应当纳入控制性详细规划，并落实到控制性详细规划的相关指标中。', 'score': 0.41811293873216804, 'meta': {'source': 'construction_regulations/城市设计管理办法.pdf', 'page': 1}, 'sub_query': '城市设计管理办法的具体内容包括哪些规定？'})], status='FINISHED')"
      ]
     },
     "execution_count": 9,
     "metadata": {},
     "output_type": "execute_result"
    }
   ],
   "source": [
    "query = \"城市设计管理办法有哪些具体的内容？\"\n",
    "response = await agent.run(query)\n",
    "response"
   ]
  },
  {
   "cell_type": "markdown",
   "id": "9210e882-9ce6-4bc6-8ae2-ef78ad336dd3",
   "metadata": {},
   "source": [
    "## 4.3 使用few shot example 来引导子query分解\n",
    "\n",
    "在利用大模型对复杂的Query分解成子query的时候，由于缺乏一些策略指导，大模型分解的子query会很随机，比如“请比较一下波士顿和姚明出生的城市的区别是什么？”，可能会被分解成：波士顿和姚明出生城市的人口，波士顿和姚明出生城市的GDP等。这些子Query虽然也比较简单具体，但不是最优的，不是我们预想的把两个城市拆开来生成子问题。因此，我们可以加入一些few shot样本来引导大模型按照我们的预想的方式来生成子问题，这样能够避免大模型出现很随机的子问题分解的情况。"
   ]
  },
  {
   "cell_type": "code",
   "execution_count": 10,
   "id": "a2158292-9959-4896-8f63-5d51b6294aa0",
   "metadata": {},
   "outputs": [],
   "source": [
    "data_map = {\n",
    "    \"电动汽车的品牌有哪些？各有什么特点？\": [\n",
    "        \"当前市场上的主要电动汽车品牌。\",\n",
    "        \"每个品牌的电动汽车品牌的基本技术规格，如续航里程、充电速度等。\",\n",
    "        \"每个品牌的电动汽车型号，包括轿车、SUV、卡车等。\",\n",
    "        \"每个品牌的充电基础设施和网络覆盖情况。\",\n",
    "        \"每个品牌的电池技术和电动驱动系统。\",\n",
    "    ],\n",
    "    \"智能家居科技趋势及其在提高生活效率中的应用\": [\"当前最新的智能家居科技趋势是什么\", \"智能家居科技趋势的工作原理和特性\", \"哪些公司或产品正在引领这些智能家居科技趋势\"],\n",
    "    \"人工智能技术在医疗诊断中的应用案例和效果分析\": [\n",
    "        \"人工智能技术在医疗诊断领域中的主要应用案例\",\n",
    "        \"收集每个应用案例中使用的具体人工智能技术，如深度学习、机器学习等\",\n",
    "        \"分析这些应用案例中人工智能技术对诊断准确性的影响。\",\n",
    "        \"研究人工智能技术在医疗诊断中的效果，特别关注是否提高了患者的治疗成功率。\",\n",
    "    ],\n",
    "}"
   ]
  },
  {
   "cell_type": "code",
   "execution_count": 11,
   "id": "9793a8cc-0596-49b2-87f6-2482c3919eb2",
   "metadata": {},
   "outputs": [],
   "source": [
    "few_shot_examples = []\n",
    "for key, values in data_map.items():\n",
    "    meta_data = {}\n",
    "    for i in range(len(values)):\n",
    "        meta_data[f\"sub_query_{i+1}\"] = values[i]\n",
    "    doc = Document(page_content=key, metadata={\"sub_queries\": meta_data})\n",
    "    few_shot_examples.append(doc)"
   ]
  },
  {
   "cell_type": "code",
   "execution_count": 12,
   "id": "db22ba5a-385d-4e5a-81db-3dbf031082f0",
   "metadata": {},
   "outputs": [],
   "source": [
    "few_shot_retriever = FAISS.from_documents(few_shot_examples, embeddings)\n",
    "few_shot_search = LangChainRetrievalTool(few_shot_retriever)"
   ]
  },
  {
   "cell_type": "code",
   "execution_count": 13,
   "id": "b68478bb-3abd-4a5a-9025-ce6b28d36966",
   "metadata": {},
   "outputs": [],
   "source": [
    "memory = WholeMemory()\n",
    "agent = RetrievalAgent(\n",
    "    knowledge_base=search_tool,\n",
    "    few_shot_retriever=few_shot_search,\n",
    "    use_compressor=True,\n",
    "    llm=llm,\n",
    "    top_k=3,\n",
    "    tools=[],\n",
    "    memory=memory,\n",
    ")"
   ]
  },
  {
   "cell_type": "code",
   "execution_count": 14,
   "id": "5d5f0fc1-e416-479b-aa34-39ddd01d7a64",
   "metadata": {},
   "outputs": [
    {
     "name": "stderr",
     "output_type": "stream",
     "text": [
      "/root/anaconda3/envs/py39/lib/python3.9/site-packages/langchain_core/vectorstores.py:311: UserWarning: Relevance scores must be between 0 and 1, got [(Document(page_content='智能家居科技趋势及其在提高生活效率中的应用', metadata={'sub_queries': {'sub_query_1': '当前最新的智能家居科技趋势是什么', 'sub_query_2': '智能家居科技趋势的工作原理和特性', 'sub_query_3': '哪些公司或产品正在引领这些智能家居科技趋势'}}), -0.07231259528132505), (Document(page_content='电动汽车的品牌有哪些？各有什么特点？', metadata={'sub_queries': {'sub_query_1': '当前市场上的主要电动汽车品牌。', 'sub_query_2': '每个品牌的电动汽车品牌的基本技术规格，如续航里程、充电速度等。', 'sub_query_3': '每个品牌的电动汽车型号，包括轿车、SUV、卡车等。', 'sub_query_4': '每个品牌的充电基础设施和网络覆盖情况。', 'sub_query_5': '每个品牌的电池技术和电动驱动系统。'}}), -0.10011265655911084), (Document(page_content='人工智能技术在医疗诊断中的应用案例和效果分析', metadata={'sub_queries': {'sub_query_1': '人工智能技术在医疗诊断领域中的主要应用案例', 'sub_query_2': '收集每个应用案例中使用的具体人工智能技术，如深度学习、机器学习等', 'sub_query_3': '分析这些应用案例中人工智能技术对诊断准确性的影响。', 'sub_query_4': '研究人工智能技术在医疗诊断中的效果，特别关注是否提高了患者的治疗成功率。'}}), -0.12608110009431006)]\n",
      "  warnings.warn(\n"
     ]
    },
    {
     "data": {
      "text/plain": [
       "AgentResponse(text='城市设计管理办法的具体内容包括：\\n\\n1. 城市设计分为总体城市设计和重点地区城市设计。\\n2. 总体城市设计应当确定城市风貌特色，保护自然山水格局，优化城市形态格局，明确公共空间体系，并可与城市（县人民政府所在地建制镇）总体规划一并报批。\\n3. 编制城市设计时，应广泛征求专家和公众意见，并在审批前依法进行公示，公示时间不少于30日。\\n4. 重点地区城市设计的内容和要求应当纳入控制性详细规划，并落实到控制性详细规划的相关指标中。\\n5. 在历史文化街区和历史风貌保护相关控制地区开展城市设计时，应保护历史文化，明确新建建筑和改扩建建筑的控制要求。\\n6. 在重要街道、街区开展城市设计时，应考虑交通组织、交通设施、市政设施、街道家具、步行活动和绿化空间，提升街道特色和活力。\\n7. 在城市设计重点地区范围以外地区，可以根据当地实际条件，依据总体城市设计，单独或者结合控制性详细规划等开展城市设计，明确建筑特色、公共空间和景观风貌等方面的要求。', chat_history=[<HumanMessage role: 'user', content: '检索结果:\\n\\n    第1个段落: 城市设计管理办法的制定目的是：\\n1. 提高城市建设水平\\n2. 塑造城市风貌特色\\n3. 推进城市设计工作\\n4. 完善城市规划建设管理\\n\\n    第2个段落: 根据所提供的背景，城市设计管理办法包含的关键要素和规定有：\\n\\n1. 城市设计分为总体城市设计和重点地区城市设计。\\n2. 总体城市设计应当确定城市风貌特色，保护自然山水格局，优化城市形态格局，明确公共空间体系，并可与城市（县人民政府所在地建制镇）总体规划一并报批。\\n3. 编制城市设计时，应广泛征求专家和公众意见，并在审批前依法进行公示，公示时间不少于30日。\\n4. 重点地区城市设计的内容和要求应当纳入控制性详细规划，并落实到控制性详细规划的相关指标中。\\n5. 在历史文化街区和历史风貌保护相关控制地区开展城市设计时，应保护历史文化，明确新建建筑和改扩建建筑的控制要求。\\n6. 在重要街道、街区开展城市设计时，应考虑交通组织、交通设施、市政设施、街道家具、步行活动和绿化空间，提升街道特色和活力。\\n7. 在城市设计重点地区范围以外地区，可以根据当地实际条件，依据总体城市设计，单独或者结合控制性详细规划等开展城市设计，明确建筑特色、公共空间和景观风貌等方面的要求。\\n\\n检索语句: 城市设计管理办法有哪些具体的内容？\\n请根据以上检索结果回答检索语句的问题', token_count: 342>, <AIMessage role: 'assistant', content: '城市设计管理办法的具体内容包括：\\n\\n1. 城市设计分为总体城市设计和重点地区城市设计。\\n2. 总体城市设计应当确定城市风貌特色，保护自然山水格局，优化城市形态格局，明确公共空间体系，并可与城市（县人民政府所在地建制镇）总体规划一并报批。\\n3. 编制城市设计时，应广泛征求专家和公众意见，并在审批前依法进行公示，公示时间不少于30日。\\n4. 重点地区城市设计的内容和要求应当纳入控制性详细规划，并落实到控制性详细规划的相关指标中。\\n5. 在历史文化街区和历史风貌保护相关控制地区开展城市设计时，应保护历史文化，明确新建建筑和改扩建建筑的控制要求。\\n6. 在重要街道、街区开展城市设计时，应考虑交通组织、交通设施、市政设施、街道家具、步行活动和绿化空间，提升街道特色和活力。\\n7. 在城市设计重点地区范围以外地区，可以根据当地实际条件，依据总体城市设计，单独或者结合控制性详细规划等开展城市设计，明确建筑特色、公共空间和景观风貌等方面的要求。', token_count: 250>], steps=[AgentStep(info={'query': '城市设计管理办法有哪些具体的内容？', 'name': 'few shot retriever'}, result=[]), AgentStep(info={'query': '城市设计管理办法的制定目的是什么？', 'name': 'sub query compressor 0'}, result={'content': '城市设计管理办法的制定目的是：\\n1. 提高城市建设水平\\n2. 塑造城市风貌特色\\n3. 推进城市设计工作\\n4. 完善城市规划建设管理', 'score': 0.3819131369867067, 'meta': {'source': 'construction_regulations/城市设计管理办法.pdf', 'page': 0}, 'sub_query': '城市设计管理办法的制定目的是什么？'}), AgentStep(info={'query': '城市设计管理办法包含哪些关键要素和规定？', 'name': 'sub query compressor 1'}, result={'content': '根据所提供的背景，城市设计管理办法包含的关键要素和规定有：\\n\\n1. 城市设计分为总体城市设计和重点地区城市设计。\\n2. 总体城市设计应当确定城市风貌特色，保护自然山水格局，优化城市形态格局，明确公共空间体系，并可与城市（县人民政府所在地建制镇）总体规划一并报批。\\n3. 编制城市设计时，应广泛征求专家和公众意见，并在审批前依法进行公示，公示时间不少于30日。\\n4. 重点地区城市设计的内容和要求应当纳入控制性详细规划，并落实到控制性详细规划的相关指标中。\\n5. 在历史文化街区和历史风貌保护相关控制地区开展城市设计时，应保护历史文化，明确新建建筑和改扩建建筑的控制要求。\\n6. 在重要街道、街区开展城市设计时，应考虑交通组织、交通设施、市政设施、街道家具、步行活动和绿化空间，提升街道特色和活力。\\n7. 在城市设计重点地区范围以外地区，可以根据当地实际条件，依据总体城市设计，单独或者结合控制性详细规划等开展城市设计，明确建筑特色、公共空间和景观风貌等方面的要求。', 'score': 0.38122496324422084, 'meta': {'source': 'construction_regulations/城市设计管理办法.pdf', 'page': 1}, 'sub_query': '城市设计管理办法包含哪些关键要素和规定？'})], status='FINISHED')"
      ]
     },
     "execution_count": 14,
     "metadata": {},
     "output_type": "execute_result"
    }
   ],
   "source": [
    "query = \"城市设计管理办法有哪些具体的内容？\"\n",
    "response = await agent.run(query)\n",
    "response"
   ]
  },
  {
   "cell_type": "markdown",
   "id": "37232e51-7030-4732-aa86-2534cfe6dd14",
   "metadata": {},
   "source": [
    "## 4.4 使用先验背景信息来引导子query分解\n",
    "在利用大模型对复杂的Query分解成子query的时候，由于缺少先验知识，即不知道知识库里面包含了哪些内容，因此在做query分解的时候，会生成一些无用的子query，比如：“请比较一下波士顿和姚明出生的城市的区别是什么？”，如果库里面没有对美食的论述，而分解子query的时候出现了：波士顿有哪些美食，姚明的城市有哪些美食。这类无用的query，占了搜索资源，又对最终答案无效，会造成一定的浪费。因此，我们使用context retriever的方式，在做复杂query分解的时候，根据检索到的上下文内容进行分解，这样可以避免很多无效的子query分解的问题。"
   ]
  },
  {
   "cell_type": "code",
   "execution_count": 15,
   "id": "2cc0257d-e5a8-46b2-b4bd-2dceec8517ee",
   "metadata": {},
   "outputs": [],
   "source": [
    "background_data = [\n",
    "    \"《城市管理执法办法》主要规定了城市管理执法的范围、主管部门、执法人员资格与行为准则、执法措施与程序，以及监督与责任追究机制，旨在确保城市管理执法活动规范、公正、文明，维护城市公共秩序和市容环境。\",\n",
    "    \"《城市设计管理办法》主要内容是规定了城市设计的编制、审批、实施和管理的相关要求，旨在通过科学、合理的城市设计，塑造城市特色风貌，提升城市环境质量，促进城市可持续发展。该办法强调了城市设计的综合性、整体性和长远性，明确了各级政府和相关部门在城市设计中的职责和作用，为城市设计工作的规范化、制度化提供了保障。\",\n",
    "]"
   ]
  },
  {
   "cell_type": "code",
   "execution_count": 16,
   "id": "5a1906c9-c73d-48f3-8cd6-09c51965879f",
   "metadata": {},
   "outputs": [],
   "source": [
    "background_info = []\n",
    "for item in background_data:\n",
    "    meta_data = {}\n",
    "    doc = Document(page_content=item)\n",
    "    background_info.append(doc)"
   ]
  },
  {
   "cell_type": "code",
   "execution_count": 17,
   "id": "a307d503-757f-48fd-bc25-ba70d4c2a755",
   "metadata": {},
   "outputs": [],
   "source": [
    "context_retriever = FAISS.from_documents(background_info, embeddings)\n",
    "context_search = LangChainRetrievalTool(context_retriever)"
   ]
  },
  {
   "cell_type": "code",
   "execution_count": 18,
   "id": "b6c5b4df-ae5b-4d76-913d-112f68d7f9fd",
   "metadata": {},
   "outputs": [],
   "source": [
    "memory = WholeMemory()\n",
    "agent = RetrievalAgent(\n",
    "    knowledge_base=search_tool,\n",
    "    context_retriever=context_search,\n",
    "    use_compressor=True,\n",
    "    llm=llm,\n",
    "    top_k=3,\n",
    "    tools=[],\n",
    "    memory=memory,\n",
    ")"
   ]
  },
  {
   "cell_type": "code",
   "execution_count": 19,
   "id": "105a2183-9fa3-4a14-825d-c555fcfa7748",
   "metadata": {},
   "outputs": [
    {
     "data": {
      "text/plain": [
       "AgentResponse(text='城市设计管理办法的具体内容包括：\\n\\n1. 城市设计是落实城市规划、指导建筑设计、塑造城市特色风貌的有效手段，贯穿于城市规划建设管理全过程。\\n2. 城市设计分为总体城市设计和重点地区城市设计。\\n3. 总体城市设计应当确定城市风貌特色，保护自然山水格局，优化城市形态格局，明确公共空间体系，并可与城市（县人民政府所在地建制镇）总体规划一并报批。\\n4. 重点地区城市设计的内容和要求应当纳入控制性详细规划，并落实到控制性详细规划的相关指标中。', chat_history=[<HumanMessage role: 'user', content: '检索结果:\\n\\n    第1个段落: 以下是与问题相关的部分：\\n\\n1. 城市设计管理办法（2017年3月14日中华人民共和国住房和城乡建设部令第35号公布 自2017年6月1日起施行）\\n2. 城市设计是落实城市规划、指导建筑设计、塑造城市特色风貌的有效手段，贯穿于城市规划建设管理全过程。\\n3. 城市设计分为总体城市设计和重点地区城市设计。\\n4. 总体城市设计应当确定城市风貌特色， 保护自然山水格局， 优化城市形态格局， 明确公共空间体系， 并可与城市 （县人民政府所在地建制镇）总体规划一并报批。\\n5. 重点地区城市设计的内容和要求应当纳入控制性详细规划，并落实到控制性详细规划的相关指标中。\\n\\n    第2个段落: - 第七条：城市设计分为总体城市设计和重点地区城市设计。\\n- 第八条：总体城市设计应当确定城市风貌特色，保护自然山水格局，优化城市形态格局，明确公共空间体系，并可与城市（县人民政府所在地建制镇）总体规划一并报批。\\n- 第十四条：重点地区城市设计的内容和要求应当纳入控制性详细规划，并落实到控制性详细规划的相关指标中。\\n\\n检索语句: 城市设计管理办法有哪些具体的内容？\\n请根据以上检索结果回答检索语句的问题', token_count: 315>, <AIMessage role: 'assistant', content: '城市设计管理办法的具体内容包括：\\n\\n1. 城市设计是落实城市规划、指导建筑设计、塑造城市特色风貌的有效手段，贯穿于城市规划建设管理全过程。\\n2. 城市设计分为总体城市设计和重点地区城市设计。\\n3. 总体城市设计应当确定城市风貌特色，保护自然山水格局，优化城市形态格局，明确公共空间体系，并可与城市（县人民政府所在地建制镇）总体规划一并报批。\\n4. 重点地区城市设计的内容和要求应当纳入控制性详细规划，并落实到控制性详细规划的相关指标中。', token_count: 129>], steps=[AgentStep(info={'query': '城市设计管理办法有哪些具体的内容？', 'name': 'context retriever'}, result={'documents': [{'content': '《城市设计管理办法》主要内容是规定了城市设计的编制、审批、实施和管理的相关要求，旨在通过科学、合理的城市设计，塑造城市特色风貌，提升城市环境质量，促进城市可持续发展。该办法强调了城市设计的综合性、整体性和长远性，明确了各级政府和相关部门在城市设计中的职责和作用，为城市设计工作的规范化、制度化提供了保障。', 'score': 0.4845318622725464, 'meta': {}}, {'content': '《城市管理执法办法》主要规定了城市管理执法的范围、主管部门、执法人员资格与行为准则、执法措施与程序，以及监督与责任追究机制，旨在确保城市管理执法活动规范、公正、文明，维护城市公共秩序和市容环境。', 'score': 0.24089328005768174, 'meta': {}}]}), AgentStep(info={'query': '城市设计管理办法有哪些主要内容？', 'name': 'sub query compressor 0'}, result={'content': '以下是与问题相关的部分：\\n\\n1. 城市设计管理办法（2017年3月14日中华人民共和国住房和城乡建设部令第35号公布 自2017年6月1日起施行）\\n2. 城市设计是落实城市规划、指导建筑设计、塑造城市特色风貌的有效手段，贯穿于城市规划建设管理全过程。\\n3. 城市设计分为总体城市设计和重点地区城市设计。\\n4. 总体城市设计应当确定城市风貌特色， 保护自然山水格局， 优化城市形态格局， 明确公共空间体系， 并可与城市 （县人民政府所在地建制镇）总体规划一并报批。\\n5. 重点地区城市设计的内容和要求应当纳入控制性详细规划，并落实到控制性详细规划的相关指标中。', 'score': 0.41046741611859483, 'meta': {'source': 'construction_regulations/城市设计管理办法.pdf', 'page': 1}, 'sub_query': '城市设计管理办法有哪些主要内容？'}), AgentStep(info={'query': '城市设计管理办法中的城市设计包括哪些方面？', 'name': 'sub query compressor 1'}, result={'content': '- 第七条：城市设计分为总体城市设计和重点地区城市设计。\\n- 第八条：总体城市设计应当确定城市风貌特色，保护自然山水格局，优化城市形态格局，明确公共空间体系，并可与城市（县人民政府所在地建制镇）总体规划一并报批。\\n- 第十四条：重点地区城市设计的内容和要求应当纳入控制性详细规划，并落实到控制性详细规划的相关指标中。', 'score': 0.43325292965425144, 'meta': {'source': 'construction_regulations/城市设计管理办法.pdf', 'page': 1}, 'sub_query': '城市设计管理办法中的城市设计包括哪些方面？'})], status='FINISHED')"
      ]
     },
     "execution_count": 19,
     "metadata": {},
     "output_type": "execute_result"
    }
   ],
   "source": [
    "query = \"城市设计管理办法有哪些具体的内容？\"\n",
    "response = await agent.run(query)\n",
    "response"
   ]
  },
  {
   "cell_type": "code",
   "execution_count": null,
   "id": "22f52651-522a-4783-b7ca-bb135e6e9233",
   "metadata": {},
   "outputs": [],
   "source": []
  }
 ],
 "metadata": {
  "kernelspec": {
   "display_name": "Python 3 (ipykernel)",
   "language": "python",
   "name": "python3"
  },
  "language_info": {
   "codemirror_mode": {
    "name": "ipython",
    "version": 3
   },
   "file_extension": ".py",
   "mimetype": "text/x-python",
   "name": "python",
   "nbconvert_exporter": "python",
   "pygments_lexer": "ipython3",
   "version": "3.9.12"
  }
 },
 "nbformat": 4,
 "nbformat_minor": 5
}
